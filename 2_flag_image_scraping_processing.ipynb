{
 "cells": [
  {
   "cell_type": "code",
   "execution_count": 1,
   "id": "5ba41352-37ff-46e5-b356-81d65ddafbaa",
   "metadata": {},
   "outputs": [],
   "source": [
    "import pandas as pd\n",
    "import requests\n",
    "from bs4 import BeautifulSoup\n",
    "import os\n",
    "import time"
   ]
  },
  {
   "cell_type": "code",
   "execution_count": 2,
   "id": "a2b0d7ed-6391-4fdc-939a-537a6eb9195d",
   "metadata": {},
   "outputs": [],
   "source": [
    "df = pd.read_csv('data/country_list.csv')"
   ]
  },
  {
   "cell_type": "code",
   "execution_count": 3,
   "id": "6be8a040-3d3e-41e6-8e9e-36dc29e855c0",
   "metadata": {},
   "outputs": [
    {
     "data": {
      "text/html": [
       "<div>\n",
       "<style scoped>\n",
       "    .dataframe tbody tr th:only-of-type {\n",
       "        vertical-align: middle;\n",
       "    }\n",
       "\n",
       "    .dataframe tbody tr th {\n",
       "        vertical-align: top;\n",
       "    }\n",
       "\n",
       "    .dataframe thead th {\n",
       "        text-align: right;\n",
       "    }\n",
       "</style>\n",
       "<table border=\"1\" class=\"dataframe\">\n",
       "  <thead>\n",
       "    <tr style=\"text-align: right;\">\n",
       "      <th></th>\n",
       "      <th>Unnamed: 0</th>\n",
       "      <th>continent</th>\n",
       "      <th>country</th>\n",
       "      <th>capital</th>\n",
       "    </tr>\n",
       "  </thead>\n",
       "  <tbody>\n",
       "    <tr>\n",
       "      <th>0</th>\n",
       "      <td>0</td>\n",
       "      <td>Asia</td>\n",
       "      <td>Afghanistan</td>\n",
       "      <td>Kabul</td>\n",
       "    </tr>\n",
       "    <tr>\n",
       "      <th>1</th>\n",
       "      <td>1</td>\n",
       "      <td>Asia</td>\n",
       "      <td>Armenia</td>\n",
       "      <td>Yerevan</td>\n",
       "    </tr>\n",
       "    <tr>\n",
       "      <th>2</th>\n",
       "      <td>2</td>\n",
       "      <td>Asia</td>\n",
       "      <td>Azerbaijan</td>\n",
       "      <td>Baku</td>\n",
       "    </tr>\n",
       "    <tr>\n",
       "      <th>3</th>\n",
       "      <td>3</td>\n",
       "      <td>Asia</td>\n",
       "      <td>Bahrain</td>\n",
       "      <td>Manama</td>\n",
       "    </tr>\n",
       "    <tr>\n",
       "      <th>4</th>\n",
       "      <td>4</td>\n",
       "      <td>Asia</td>\n",
       "      <td>Bangladesh</td>\n",
       "      <td>Dhaka</td>\n",
       "    </tr>\n",
       "  </tbody>\n",
       "</table>\n",
       "</div>"
      ],
      "text/plain": [
       "   Unnamed: 0 continent      country  capital\n",
       "0           0      Asia  Afghanistan    Kabul\n",
       "1           1      Asia      Armenia  Yerevan\n",
       "2           2      Asia   Azerbaijan     Baku\n",
       "3           3      Asia      Bahrain   Manama\n",
       "4           4      Asia   Bangladesh    Dhaka"
      ]
     },
     "execution_count": 3,
     "metadata": {},
     "output_type": "execute_result"
    }
   ],
   "source": [
    "df.head()"
   ]
  },
  {
   "cell_type": "code",
   "execution_count": 11,
   "id": "31f8e4b5-4434-4a75-b7c3-c377a07c847e",
   "metadata": {},
   "outputs": [
    {
     "name": "stdout",
     "output_type": "stream",
     "text": [
      " Flag downloaded for: Afghanistan\n",
      " Flag downloaded for: Armenia\n",
      " Flag not found for: Azerbaijan\n",
      " Flag downloaded for: Bahrain\n"
     ]
    }
   ],
   "source": [
    "#✅✅✅✅✅✅✅\n",
    "\n",
    "def download_flag(country):\n",
    "    try:\n",
    "        # Construct Wikipedia URL (replace spaces with underscores)\n",
    "        url = f'https://en.wikipedia.org/wiki/{country.replace(\" \", \"_\")}'\n",
    "        response = requests.get(url, timeout=10)\n",
    "        response.raise_for_status()  # Raise HTTPError for bad responses\n",
    "\n",
    "        soup = BeautifulSoup(response.text, 'html.parser')\n",
    "\n",
    "        # Find flag image - this method looks for image with 'Flag of' in alt\n",
    "        flag_img = soup.find('img', alt=lambda x: x and 'Flag of' in x)\n",
    "\n",
    "        if not flag_img:\n",
    "            print(f\" Flag not found for: {country}\")\n",
    "            return\n",
    "\n",
    "        # Get full image URL\n",
    "        img_url = 'https:' + flag_img['src']\n",
    "        img_data = requests.get(img_url, timeout=10).content\n",
    "\n",
    "        # Clean filename\n",
    "        filename = f\"{country.replace(' ', '_')}_flag.png\"\n",
    "       \n",
    "        os.makedirs('flag_image', exist_ok=True)\n",
    "        # with open(filename, 'wb') as f:\n",
    "        #     f.write(img_data)\n",
    "\n",
    "\n",
    "        with open(os.path.join('flag_image', filename), 'wb') as file:\n",
    "                file.write(img_data)\n",
    "        \n",
    "        print(f\" Flag downloaded for: {country}\")\n",
    "\n",
    "    except requests.exceptions.RequestException as e:\n",
    "        print(f\" Network error for {country}: {e}\")\n",
    "    except Exception as e:\n",
    "        print(f\" Unexpected error for {country}: {e}\")\n",
    "\n",
    "\n",
    "country_list = df['country'][0:4]\n",
    "\n",
    "for country in country_list:\n",
    "    download_flag(country)\n",
    "    time.sleep(1)  "
   ]
  },
  {
   "cell_type": "code",
   "execution_count": 57,
   "id": "53b7c996-252a-421a-a5a7-8248c14e78f7",
   "metadata": {},
   "outputs": [],
   "source": [
    "# List of Images\n",
    "folder_path ='flag_image'\n",
    "file_names = os.listdir(folder_path)\n",
    "image_files = [f for f in file_names if f.endswith('.png')]\n",
    "\n",
    "df_flag = pd.DataFrame(image_files, columns=['image_name'])"
   ]
  },
  {
   "cell_type": "code",
   "execution_count": 59,
   "id": "a7471d2e-f26d-4e5a-88f0-4c4abda7af18",
   "metadata": {},
   "outputs": [
    {
     "data": {
      "text/html": [
       "<div>\n",
       "<style scoped>\n",
       "    .dataframe tbody tr th:only-of-type {\n",
       "        vertical-align: middle;\n",
       "    }\n",
       "\n",
       "    .dataframe tbody tr th {\n",
       "        vertical-align: top;\n",
       "    }\n",
       "\n",
       "    .dataframe thead th {\n",
       "        text-align: right;\n",
       "    }\n",
       "</style>\n",
       "<table border=\"1\" class=\"dataframe\">\n",
       "  <thead>\n",
       "    <tr style=\"text-align: right;\">\n",
       "      <th></th>\n",
       "      <th>image_name</th>\n",
       "    </tr>\n",
       "  </thead>\n",
       "  <tbody>\n",
       "    <tr>\n",
       "      <th>0</th>\n",
       "      <td>Afghanistan_flag.png</td>\n",
       "    </tr>\n",
       "    <tr>\n",
       "      <th>1</th>\n",
       "      <td>Albania_flag.png</td>\n",
       "    </tr>\n",
       "  </tbody>\n",
       "</table>\n",
       "</div>"
      ],
      "text/plain": [
       "             image_name\n",
       "0  Afghanistan_flag.png\n",
       "1      Albania_flag.png"
      ]
     },
     "execution_count": 59,
     "metadata": {},
     "output_type": "execute_result"
    }
   ],
   "source": [
    "df_flag.head(2)"
   ]
  },
  {
   "cell_type": "code",
   "execution_count": 61,
   "id": "e2f2e6c6-6aa7-46ea-bf01-0c39f9e4e985",
   "metadata": {},
   "outputs": [],
   "source": [
    "df_flag['country'] = df_flag['image_name'].apply(lambda x: x.split(\"_flag.png\")[0])"
   ]
  },
  {
   "cell_type": "code",
   "execution_count": 63,
   "id": "0bcfa4ec-aab5-418d-95fb-e1d4d6d6eac1",
   "metadata": {},
   "outputs": [
    {
     "data": {
      "text/html": [
       "<div>\n",
       "<style scoped>\n",
       "    .dataframe tbody tr th:only-of-type {\n",
       "        vertical-align: middle;\n",
       "    }\n",
       "\n",
       "    .dataframe tbody tr th {\n",
       "        vertical-align: top;\n",
       "    }\n",
       "\n",
       "    .dataframe thead th {\n",
       "        text-align: right;\n",
       "    }\n",
       "</style>\n",
       "<table border=\"1\" class=\"dataframe\">\n",
       "  <thead>\n",
       "    <tr style=\"text-align: right;\">\n",
       "      <th></th>\n",
       "      <th>image_name</th>\n",
       "      <th>country</th>\n",
       "    </tr>\n",
       "  </thead>\n",
       "  <tbody>\n",
       "    <tr>\n",
       "      <th>0</th>\n",
       "      <td>Afghanistan_flag.png</td>\n",
       "      <td>Afghanistan</td>\n",
       "    </tr>\n",
       "    <tr>\n",
       "      <th>1</th>\n",
       "      <td>Albania_flag.png</td>\n",
       "      <td>Albania</td>\n",
       "    </tr>\n",
       "    <tr>\n",
       "      <th>2</th>\n",
       "      <td>Algeria_flag.png</td>\n",
       "      <td>Algeria</td>\n",
       "    </tr>\n",
       "    <tr>\n",
       "      <th>3</th>\n",
       "      <td>Andorra_flag.png</td>\n",
       "      <td>Andorra</td>\n",
       "    </tr>\n",
       "    <tr>\n",
       "      <th>4</th>\n",
       "      <td>Angola_flag.png</td>\n",
       "      <td>Angola</td>\n",
       "    </tr>\n",
       "  </tbody>\n",
       "</table>\n",
       "</div>"
      ],
      "text/plain": [
       "             image_name      country\n",
       "0  Afghanistan_flag.png  Afghanistan\n",
       "1      Albania_flag.png      Albania\n",
       "2      Algeria_flag.png      Algeria\n",
       "3      Andorra_flag.png      Andorra\n",
       "4       Angola_flag.png       Angola"
      ]
     },
     "execution_count": 63,
     "metadata": {},
     "output_type": "execute_result"
    }
   ],
   "source": [
    "df_flag.head()"
   ]
  },
  {
   "cell_type": "code",
   "execution_count": 65,
   "id": "9058ed45-4f4a-407e-905b-0494c1610664",
   "metadata": {},
   "outputs": [],
   "source": [
    "df_flag['country'] = df_flag['country'].str.replace('_',' ')"
   ]
  },
  {
   "cell_type": "code",
   "execution_count": 67,
   "id": "c002c7bc-b1c8-4ec1-8d84-54e034c5d35a",
   "metadata": {},
   "outputs": [
    {
     "data": {
      "text/html": [
       "<div>\n",
       "<style scoped>\n",
       "    .dataframe tbody tr th:only-of-type {\n",
       "        vertical-align: middle;\n",
       "    }\n",
       "\n",
       "    .dataframe tbody tr th {\n",
       "        vertical-align: top;\n",
       "    }\n",
       "\n",
       "    .dataframe thead th {\n",
       "        text-align: right;\n",
       "    }\n",
       "</style>\n",
       "<table border=\"1\" class=\"dataframe\">\n",
       "  <thead>\n",
       "    <tr style=\"text-align: right;\">\n",
       "      <th></th>\n",
       "      <th>image_name</th>\n",
       "      <th>country</th>\n",
       "    </tr>\n",
       "  </thead>\n",
       "  <tbody>\n",
       "    <tr>\n",
       "      <th>0</th>\n",
       "      <td>Afghanistan_flag.png</td>\n",
       "      <td>Afghanistan</td>\n",
       "    </tr>\n",
       "    <tr>\n",
       "      <th>1</th>\n",
       "      <td>Albania_flag.png</td>\n",
       "      <td>Albania</td>\n",
       "    </tr>\n",
       "    <tr>\n",
       "      <th>2</th>\n",
       "      <td>Algeria_flag.png</td>\n",
       "      <td>Algeria</td>\n",
       "    </tr>\n",
       "    <tr>\n",
       "      <th>3</th>\n",
       "      <td>Andorra_flag.png</td>\n",
       "      <td>Andorra</td>\n",
       "    </tr>\n",
       "    <tr>\n",
       "      <th>4</th>\n",
       "      <td>Angola_flag.png</td>\n",
       "      <td>Angola</td>\n",
       "    </tr>\n",
       "  </tbody>\n",
       "</table>\n",
       "</div>"
      ],
      "text/plain": [
       "             image_name      country\n",
       "0  Afghanistan_flag.png  Afghanistan\n",
       "1      Albania_flag.png      Albania\n",
       "2      Algeria_flag.png      Algeria\n",
       "3      Andorra_flag.png      Andorra\n",
       "4       Angola_flag.png       Angola"
      ]
     },
     "execution_count": 67,
     "metadata": {},
     "output_type": "execute_result"
    }
   ],
   "source": [
    "df_flag.head()"
   ]
  },
  {
   "cell_type": "code",
   "execution_count": 69,
   "id": "cc37cac8-4718-4715-a02e-58804f8534b0",
   "metadata": {},
   "outputs": [],
   "source": [
    "df_flag.to_csv('data/df_flag.csv')"
   ]
  },
  {
   "cell_type": "code",
   "execution_count": 71,
   "id": "93c1707b-478b-4157-a8bc-9ba13b26955f",
   "metadata": {},
   "outputs": [
    {
     "name": "stdout",
     "output_type": "stream",
     "text": [
      "<class 'pandas.core.frame.DataFrame'>\n",
      "RangeIndex: 196 entries, 0 to 195\n",
      "Data columns (total 2 columns):\n",
      " #   Column      Non-Null Count  Dtype \n",
      "---  ------      --------------  ----- \n",
      " 0   image_name  196 non-null    object\n",
      " 1   country     196 non-null    object\n",
      "dtypes: object(2)\n",
      "memory usage: 3.2+ KB\n"
     ]
    }
   ],
   "source": [
    "df_flag.info()"
   ]
  },
  {
   "cell_type": "code",
   "execution_count": null,
   "id": "56ed205d-d436-49bc-951e-364fe4ffea31",
   "metadata": {},
   "outputs": [],
   "source": []
  }
 ],
 "metadata": {
  "kernelspec": {
   "display_name": "Python [conda env:base] *",
   "language": "python",
   "name": "conda-base-py"
  },
  "language_info": {
   "codemirror_mode": {
    "name": "ipython",
    "version": 3
   },
   "file_extension": ".py",
   "mimetype": "text/x-python",
   "name": "python",
   "nbconvert_exporter": "python",
   "pygments_lexer": "ipython3",
   "version": "3.12.7"
  }
 },
 "nbformat": 4,
 "nbformat_minor": 5
}
